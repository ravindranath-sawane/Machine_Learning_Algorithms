{
  "nbformat": 4,
  "nbformat_minor": 0,
  "metadata": {
    "kernelspec": {
      "display_name": "Python 3",
      "language": "python",
      "name": "python3"
    },
    "language_info": {
      "codemirror_mode": {
        "name": "ipython",
        "version": 3
      },
      "file_extension": ".py",
      "mimetype": "text/x-python",
      "name": "python",
      "nbconvert_exporter": "python",
      "pygments_lexer": "ipython3",
      "version": "3.6.4"
    },
    "colab": {
      "name": "33_RKS_perceptron.ipynb",
      "provenance": []
    }
  },
  "cells": [
    {
      "cell_type": "markdown",
      "metadata": {
        "id": "1mMMqDSrbOe_"
      },
      "source": [
        "#**Perceptron Learning Model**\n"
      ]
    },
    {
      "cell_type": "markdown",
      "metadata": {
        "id": "yWDa9FuEbOfD"
      },
      "source": [
        "**LOAD THE DATA**"
      ]
    },
    {
      "cell_type": "code",
      "metadata": {
        "scrolled": true,
        "id": "8NUUW0NmbOfG",
        "colab": {
          "base_uri": "https://localhost:8080/"
        },
        "outputId": "7f1873ab-087c-42b2-e328-0f3da2bfab4f"
      },
      "source": [
        "import numpy as np\n",
        "data = np.loadtxt('iris-data.csv', delimiter=',')\n",
        "data"
      ],
      "execution_count": null,
      "outputs": [
        {
          "output_type": "execute_result",
          "data": {
            "text/plain": [
              "array([[5.1, 3.5, 0. ],\n",
              "       [4.9, 3. , 0. ],\n",
              "       [4.7, 3.2, 0. ],\n",
              "       [4.9, 3. , 0. ],\n",
              "       [4.6, 3.1, 0. ],\n",
              "       [4.6, 3.1, 0. ],\n",
              "       [4.7, 3.2, 0. ],\n",
              "       [4.6, 3.4, 0. ],\n",
              "       [5.4, 3.9, 0. ],\n",
              "       [5. , 3.6, 0. ],\n",
              "       [4.7, 3.2, 0. ],\n",
              "       [4.7, 3.2, 0. ],\n",
              "       [5.1, 3.5, 0. ],\n",
              "       [4.4, 2.9, 0. ],\n",
              "       [5. , 3.4, 0. ],\n",
              "       [5.4, 3.7, 0. ],\n",
              "       [4.8, 3.4, 0. ],\n",
              "       [4.8, 3. , 0. ],\n",
              "       [5.8, 4. , 0. ],\n",
              "       [4.8, 3.4, 0. ],\n",
              "       [4.4, 2.9, 0. ],\n",
              "       [5.1, 3.5, 0. ],\n",
              "       [5.8, 4. , 0. ],\n",
              "       [4.4, 2.9, 0. ],\n",
              "       [5.5, 2.3, 1. ],\n",
              "       [5.4, 3.9, 0. ],\n",
              "       [5.7, 3.8, 0. ],\n",
              "       [5.4, 3.9, 0. ],\n",
              "       [5.4, 3.9, 0. ],\n",
              "       [5.4, 3.9, 0. ],\n",
              "       [5.7, 4.4, 0. ],\n",
              "       [4.8, 3.4, 0. ],\n",
              "       [5.7, 2.8, 1. ],\n",
              "       [4.7, 3.2, 0. ],\n",
              "       [5.4, 3.7, 0. ],\n",
              "       [4.9, 3.1, 0. ],\n",
              "       [5.2, 2.7, 1. ],\n",
              "       [4.8, 3.4, 0. ],\n",
              "       [5.7, 2.8, 1. ],\n",
              "       [4.8, 3. , 0. ],\n",
              "       [6.5, 2.8, 1. ],\n",
              "       [4.8, 3.4, 0. ],\n",
              "       [5.2, 2.7, 1. ],\n",
              "       [5.1, 3.5, 0. ],\n",
              "       [6.6, 2.9, 1. ],\n",
              "       [4.6, 3.4, 0. ],\n",
              "       [7. , 3.2, 1. ],\n",
              "       [6.4, 3.2, 1. ],\n",
              "       [4.3, 3. , 0. ],\n",
              "       [5.4, 3.9, 0. ],\n",
              "       [5.6, 2.5, 1. ],\n",
              "       [4.3, 3. , 0. ],\n",
              "       [5.8, 4. , 0. ],\n",
              "       [4.6, 3.4, 0. ],\n",
              "       [6.1, 2.8, 1. ],\n",
              "       [5.8, 2.7, 1. ],\n",
              "       [5.1, 3.3, 0. ],\n",
              "       [5. , 3.6, 0. ],\n",
              "       [5.6, 2.9, 1. ],\n",
              "       [4.8, 3.1, 0. ],\n",
              "       [5. , 3.4, 0. ],\n",
              "       [5.8, 2.7, 1. ],\n",
              "       [6.9, 3.1, 1. ],\n",
              "       [6.7, 3.1, 1. ],\n",
              "       [6.4, 3.2, 1. ],\n",
              "       [5.8, 4. , 0. ],\n",
              "       [4.9, 3. , 0. ],\n",
              "       [6.3, 3.3, 1. ],\n",
              "       [5.4, 3.4, 0. ],\n",
              "       [4.8, 3. , 0. ],\n",
              "       [5.6, 3. , 1. ],\n",
              "       [5.1, 3.3, 0. ],\n",
              "       [5.9, 3.2, 1. ],\n",
              "       [5.1, 3.8, 0. ],\n",
              "       [4.3, 3. , 0. ],\n",
              "       [5.1, 3.8, 0. ],\n",
              "       [5.2, 2.7, 1. ],\n",
              "       [5. , 3.2, 0. ],\n",
              "       [5.2, 3.5, 0. ],\n",
              "       [5. , 3.6, 0. ],\n",
              "       [5.6, 3. , 1. ],\n",
              "       [5.5, 4.2, 0. ],\n",
              "       [5. , 3.5, 0. ],\n",
              "       [6.1, 2.8, 1. ],\n",
              "       [6.5, 2.8, 1. ],\n",
              "       [5.1, 3.5, 0. ],\n",
              "       [6. , 2.2, 1. ],\n",
              "       [5.2, 3.4, 0. ],\n",
              "       [4.9, 3.1, 0. ],\n",
              "       [4.4, 3.2, 0. ],\n",
              "       [6.3, 3.3, 1. ],\n",
              "       [4.6, 3.2, 0. ],\n",
              "       [4.6, 3.1, 0. ],\n",
              "       [5.1, 3.5, 0. ],\n",
              "       [5.1, 3.8, 0. ],\n",
              "       [4.9, 3. , 0. ],\n",
              "       [5. , 2. , 1. ],\n",
              "       [5.2, 2.7, 1. ]])"
            ]
          },
          "metadata": {
            "tags": []
          },
          "execution_count": 3
        }
      ]
    },
    {
      "cell_type": "markdown",
      "metadata": {
        "id": "aQCqthqjbOfj"
      },
      "source": [
        "**VISUALIZE THE DATA**\n",
        "\n",
        "It is a good idea to visualize the data so we can confirm that the data is linearly separable."
      ]
    },
    {
      "cell_type": "code",
      "metadata": {
        "id": "_BfOUXSobOfm",
        "colab": {
          "base_uri": "https://localhost:8080/",
          "height": 268
        },
        "outputId": "286495bc-c273-4621-a795-ea97e17a9adf"
      },
      "source": [
        "%matplotlib inline\n",
        "import matplotlib.pyplot as plt\n",
        "\n",
        "plt.grid()\n",
        "\n",
        "for i in range(len(data)) :\n",
        "    point = data[i]\n",
        "    if point[2] == 0 :\n",
        "        color = 'r'  # setosas will appear in blue\n",
        "    else:\n",
        "        color = 'b'  # versicolor will appear in red\n",
        "    \n",
        "    plt.scatter(point[0], point[1], c=color);"
      ],
      "execution_count": null,
      "outputs": [
        {
          "output_type": "display_data",
          "data": {
            "image/png": "[encoded data removed]",
            "text/plain": [
              "<Figure size 432x288 with 1 Axes>"
            ]
          },
          "metadata": {
            "tags": [],
            "needs_background": "light"
          }
        }
      ]
    },
    {
      "cell_type": "code",
      "metadata": {
        "id": "D1Ui0NqdbOf2",
        "colab": {
          "base_uri": "https://localhost:8080/",
          "height": 371
        },
        "outputId": "3fd097e2-c791-45bb-d5dc-7e16a67eb557"
      },
      "source": [
        "from IPython.display import Image\n",
        "from IPython.core.display import HTML \n",
        "\n",
        "Image(url= 'https://farm9.staticflickr.com/8383/8675226902_e72273713f_k.jpg', width=350, height=350)"
      ],
      "execution_count": null,
      "outputs": [
        {
          "output_type": "execute_result",
          "data": {
            "text/html": [
              "<img src=\"https://farm9.staticflickr.com/8383/8675226902_e72273713f_k.jpg\" width=\"350\" height=\"350\"/>"
            ],
            "text/plain": [
              "<IPython.core.display.Image object>"
            ]
          },
          "metadata": {
            "tags": []
          },
          "execution_count": 5
        }
      ]
    },
    {
      "cell_type": "markdown",
      "metadata": {
        "id": "SV8IWv-GbOgF"
      },
      "source": [
        "**DEFINE TRAINING AND TESTING SETS**"
      ]
    },
    {
      "cell_type": "code",
      "metadata": {
        "id": "Tih2iBx9bOgK",
        "colab": {
          "base_uri": "https://localhost:8080/"
        },
        "outputId": "b425e289-7228-4c93-c03e-9833b59d4428"
      },
      "source": [
        "from sklearn.model_selection import train_test_split\n",
        "\n",
        "target = data[:, -1]\n",
        "data = data[:, :-1]\n",
        "\n",
        "X_train, X_test, y_train, y_test = train_test_split(\n",
        "    data, target, test_size=0.30, random_state=42)\n",
        "\n",
        "X_train.shape"
      ],
      "execution_count": null,
      "outputs": [
        {
          "output_type": "execute_result",
          "data": {
            "text/plain": [
              "(68, 2)"
            ]
          },
          "metadata": {
            "tags": []
          },
          "execution_count": 6
        }
      ]
    },
    {
      "cell_type": "markdown",
      "metadata": {
        "id": "SmzvhZPLbOgb"
      },
      "source": [
        "**TRAIN THE MODEL**"
      ]
    },
    {
      "cell_type": "code",
      "metadata": {
        "id": "8gmBtOlHbOgf"
      },
      "source": [
        "from sklearn.metrics import mean_squared_error\n",
        "\n",
        "np.random.seed(93)\n",
        "\n",
        "class Perceptron(object):\n",
        "    def __init__(self, learning=0.01, n_epochs=20):\n",
        "        self.learning = learning\n",
        "        self.n_epochs = n_epochs\n",
        "    \n",
        "    def predict(self, X):\n",
        "        pred = np.dot(X, self.w_) + self.b_\n",
        "        return 1.0 if pred >= 0.0 else 0.0\n",
        "    \n",
        "    def fit(self, X, y):\n",
        "        # iniciate the weights and bias\n",
        "        self.w_ = np.random.uniform(0, 1, X.shape[1])\n",
        "        self.b_ = np.random.uniform(0, 1, 1)\n",
        "        \n",
        "        self.costList_ = []\n",
        "\n",
        "        for ep in range(self.n_epochs):\n",
        "            cost_epoch = 0\n",
        "            for xi, target in zip(X, y):\n",
        "                # cost function\n",
        "                pred = self.predict(xi)\n",
        "                cost = np.square(target - pred)\n",
        "                cost_epoch += float(cost/len(X))  # MSE\n",
        "                \n",
        "                # update weights and bias\n",
        "                update = self.learning * (target - pred)\n",
        "                self.w_ += update * xi\n",
        "                self.b_ += update\n",
        "            \n",
        "            # store MSE through every epoch iteration\n",
        "            self.costList_.append(cost_epoch)\n",
        "            \n",
        "            # print model improvements\n",
        "            print(\"Epoch: {:04}\\tLoss: {:06.5f}\".format((ep+1), cost_epoch), end='')\n",
        "            print(\"\\t\\tRegression: {:.2f}(X1) + {:.2f}(X2) + {:.2f}\".format(self.w_[0],\n",
        "                                                                      self.w_[1],\n",
        "                                                                      float(self.b_)))\n",
        "        return self"
      ],
      "execution_count": null,
      "outputs": []
    },
    {
      "cell_type": "markdown",
      "metadata": {
        "id": "EMyj6oWrbOgu"
      },
      "source": [
        "**EXECUTE THE MODEL**"
      ]
    },
    {
      "cell_type": "code",
      "metadata": {
        "id": "jNIVBZvLbOgw",
        "colab": {
          "base_uri": "https://localhost:8080/"
        },
        "outputId": "eb3ea14e-c2c0-411f-8b5a-afbfae7d43cf"
      },
      "source": [
        "clf = Perceptron()\n",
        "clf.fit(X_train, y_train)"
      ],
      "execution_count": null,
      "outputs": [
        {
          "output_type": "stream",
          "text": [
            "Epoch: 0001\tLoss: 0.58824\t\tRegression: -0.08(X1) + 0.03(X2) + 0.15\n",
            "Epoch: 0002\tLoss: 0.39706\t\tRegression: -0.02(X1) + -0.09(X2) + 0.14\n",
            "Epoch: 0003\tLoss: 0.32353\t\tRegression: 0.06(X1) + -0.15(X2) + 0.14\n",
            "Epoch: 0004\tLoss: 0.02941\t\tRegression: 0.06(X1) + -0.15(X2) + 0.14\n",
            "Epoch: 0005\tLoss: 0.00000\t\tRegression: 0.06(X1) + -0.15(X2) + 0.14\n",
            "Epoch: 0006\tLoss: 0.00000\t\tRegression: 0.06(X1) + -0.15(X2) + 0.14\n",
            "Epoch: 0007\tLoss: 0.00000\t\tRegression: 0.06(X1) + -0.15(X2) + 0.14\n",
            "Epoch: 0008\tLoss: 0.00000\t\tRegression: 0.06(X1) + -0.15(X2) + 0.14\n",
            "Epoch: 0009\tLoss: 0.00000\t\tRegression: 0.06(X1) + -0.15(X2) + 0.14\n",
            "Epoch: 0010\tLoss: 0.00000\t\tRegression: 0.06(X1) + -0.15(X2) + 0.14\n",
            "Epoch: 0011\tLoss: 0.00000\t\tRegression: 0.06(X1) + -0.15(X2) + 0.14\n",
            "Epoch: 0012\tLoss: 0.00000\t\tRegression: 0.06(X1) + -0.15(X2) + 0.14\n",
            "Epoch: 0013\tLoss: 0.00000\t\tRegression: 0.06(X1) + -0.15(X2) + 0.14\n",
            "Epoch: 0014\tLoss: 0.00000\t\tRegression: 0.06(X1) + -0.15(X2) + 0.14\n",
            "Epoch: 0015\tLoss: 0.00000\t\tRegression: 0.06(X1) + -0.15(X2) + 0.14\n",
            "Epoch: 0016\tLoss: 0.00000\t\tRegression: 0.06(X1) + -0.15(X2) + 0.14\n",
            "Epoch: 0017\tLoss: 0.00000\t\tRegression: 0.06(X1) + -0.15(X2) + 0.14\n",
            "Epoch: 0018\tLoss: 0.00000\t\tRegression: 0.06(X1) + -0.15(X2) + 0.14\n",
            "Epoch: 0019\tLoss: 0.00000\t\tRegression: 0.06(X1) + -0.15(X2) + 0.14\n",
            "Epoch: 0020\tLoss: 0.00000\t\tRegression: 0.06(X1) + -0.15(X2) + 0.14\n"
          ],
          "name": "stdout"
        },
        {
          "output_type": "execute_result",
          "data": {
            "text/plain": [
              "<__main__.Perceptron at 0x7f1b5c2fa470>"
            ]
          },
          "metadata": {
            "tags": []
          },
          "execution_count": 8
        }
      ]
    },
    {
      "cell_type": "markdown",
      "metadata": {
        "id": "Y13QeKzhbOhH"
      },
      "source": [
        "**VISUALIZE MODEL IMPROVEMENT**"
      ]
    },
    {
      "cell_type": "code",
      "metadata": {
        "id": "isIfhrd3bOhL",
        "colab": {
          "base_uri": "https://localhost:8080/",
          "height": 279
        },
        "outputId": "b56f8706-279c-45a6-c7ae-212f7fba29b6"
      },
      "source": [
        "plt.plot(clf.costList_)\n",
        "plt.xlabel('epochs')\n",
        "plt.ylabel('MSE');\n",
        "plt.show()"
      ],
      "execution_count": null,
      "outputs": [
        {
          "output_type": "display_data",
          "data": {
            "image/png": "[encoded data removed]",
            "text/plain": [
              "<Figure size 432x288 with 1 Axes>"
            ]
          },
          "metadata": {
            "tags": [],
            "needs_background": "light"
          }
        }
      ]
    },
    {
      "cell_type": "markdown",
      "metadata": {
        "id": "GSU1-Pt5bOhb"
      },
      "source": [
        "**VISUALIZE CONFUSION MATRIX**"
      ]
    },
    {
      "cell_type": "code",
      "metadata": {
        "id": "ZmlQMb4rbOhe",
        "colab": {
          "base_uri": "https://localhost:8080/",
          "height": 582
        },
        "outputId": "fc8bd3ba-f212-43e6-a77a-466c0b98a181"
      },
      "source": [
        "import seaborn as sns\n",
        "from sklearn.metrics import confusion_matrix\n",
        "\n",
        "# this will make the plot better-looking\n",
        "cmap = cmap=plt.cm.get_cmap('Reds', 10)\n",
        "\n",
        "# create a confusion matrix for training set\n",
        "print('computing confusion matrix on training sets..')\n",
        "matrix_labels = ['0:setosa', '1:versicolor']\n",
        "train_predictions = [clf.predict(item) for item in X_train]\n",
        "mat = confusion_matrix(y_train, train_predictions)\n",
        "sns.heatmap(mat.T, square=True, annot=True, fmt='d',\n",
        "            cbar=True, xticklabels=matrix_labels,\n",
        "            yticklabels=matrix_labels, cmap=cmap)\n",
        "\n",
        "plt.xlabel('Train Label set')\n",
        "plt.ylabel('Predictions')\n",
        "plt.show()\n",
        "\n",
        "# create a confusion matrix for testing set\n",
        "print('computing confusion matrix on testing sets..')\n",
        "matrix_labels = ['0:setosa', '1:versicolor']\n",
        "test_predictions = [clf.predict(item) for item in X_test]\n",
        "mat = confusion_matrix(y_test, test_predictions)\n",
        "sns.heatmap(mat.T, square=True, annot=True, fmt='d',\n",
        "            cbar=True, xticklabels=matrix_labels,\n",
        "            yticklabels=matrix_labels, cmap=cmap)\n",
        "\n",
        "plt.xlabel('Test Label set')\n",
        "plt.ylabel('Predictions')\n",
        "plt.show()\n"
      ],
      "execution_count": null,
      "outputs": [
        {
          "output_type": "stream",
          "text": [
            "computing confusion matrix on training sets..\n"
          ],
          "name": "stdout"
        },
        {
          "output_type": "display_data",
          "data": {
            "image/png": "[encoded data removed]",
            "text/plain": [
              "<Figure size 432x288 with 2 Axes>"
            ]
          },
          "metadata": {
            "tags": [],
            "needs_background": "light"
          }
        },
        {
          "output_type": "stream",
          "text": [
            "computing confusion matrix on testing sets..\n"
          ],
          "name": "stdout"
        },
        {
          "output_type": "display_data",
          "data": {
            "image/png": "[encoded data removed]",
            "text/plain": [
              "<Figure size 432x288 with 2 Axes>"
            ]
          },
          "metadata": {
            "tags": [],
            "needs_background": "light"
          }
        }
      ]
    },
    {
      "cell_type": "markdown",
      "metadata": {
        "id": "W_MYtzsvbOhu"
      },
      "source": [
        "**COMPARING EVERY SINGLE RESULT**"
      ]
    },
    {
      "cell_type": "code",
      "metadata": {
        "id": "8k81ifbrbOhx",
        "colab": {
          "base_uri": "https://localhost:8080/",
          "height": 772
        },
        "outputId": "f1f4420c-d0b9-4f3b-9dd4-10d07c10826e"
      },
      "source": [
        "for i, point in enumerate(data):\n",
        "    # Plot the samples with labels = 0\n",
        "    out = clf.predict(point)\n",
        "    if out==0:\n",
        "        plt.scatter(point[0], point[1], s=120, marker='_', linewidths=2, color='red')\n",
        "    # Plot the samples with labels = 1\n",
        "    else:\n",
        "        plt.scatter(point[0], point[1], s=120, marker='+', linewidths=2, color='blue')\n",
        "plt.show()\n",
        "\n",
        "for i in range(len(y_test)):\n",
        "    print('expectedValue vs prediction:\\t {} | {}'.format(y_test[i], clf.predict(X_test[i])))"
      ],
      "execution_count": null,
      "outputs": [
        {
          "output_type": "display_data",
          "data": {
            "image/png": "[encoded data removed]",
            "text/plain": [
              "<Figure size 432x288 with 1 Axes>"
            ]
          },
          "metadata": {
            "tags": [],
            "needs_background": "light"
          }
        },
        {
          "output_type": "stream",
          "text": [
            "expectedValue vs prediction:\t 1.0 | 1.0\n",
            "expectedValue vs prediction:\t 1.0 | 1.0\n",
            "expectedValue vs prediction:\t 0.0 | 0.0\n",
            "expectedValue vs prediction:\t 0.0 | 0.0\n",
            "expectedValue vs prediction:\t 0.0 | 0.0\n",
            "expectedValue vs prediction:\t 1.0 | 1.0\n",
            "expectedValue vs prediction:\t 1.0 | 1.0\n",
            "expectedValue vs prediction:\t 1.0 | 1.0\n",
            "expectedValue vs prediction:\t 0.0 | 0.0\n",
            "expectedValue vs prediction:\t 0.0 | 0.0\n",
            "expectedValue vs prediction:\t 0.0 | 0.0\n",
            "expectedValue vs prediction:\t 0.0 | 0.0\n",
            "expectedValue vs prediction:\t 1.0 | 1.0\n",
            "expectedValue vs prediction:\t 0.0 | 0.0\n",
            "expectedValue vs prediction:\t 1.0 | 1.0\n",
            "expectedValue vs prediction:\t 0.0 | 0.0\n",
            "expectedValue vs prediction:\t 0.0 | 0.0\n",
            "expectedValue vs prediction:\t 0.0 | 0.0\n",
            "expectedValue vs prediction:\t 1.0 | 1.0\n",
            "expectedValue vs prediction:\t 0.0 | 0.0\n",
            "expectedValue vs prediction:\t 0.0 | 0.0\n",
            "expectedValue vs prediction:\t 1.0 | 1.0\n",
            "expectedValue vs prediction:\t 0.0 | 0.0\n",
            "expectedValue vs prediction:\t 0.0 | 0.0\n",
            "expectedValue vs prediction:\t 0.0 | 0.0\n",
            "expectedValue vs prediction:\t 0.0 | 0.0\n",
            "expectedValue vs prediction:\t 0.0 | 0.0\n",
            "expectedValue vs prediction:\t 1.0 | 1.0\n",
            "expectedValue vs prediction:\t 0.0 | 0.0\n",
            "expectedValue vs prediction:\t 0.0 | 0.0\n"
          ],
          "name": "stdout"
        }
      ]
    },
    {
      "cell_type": "markdown",
      "metadata": {
        "id": "bslL3qJtbOiB"
      },
      "source": [
        "**TRY IT YOURSELF**"
      ]
    },
    {
      "cell_type": "code",
      "metadata": {
        "id": "Ff0cbSPwbOiD",
        "colab": {
          "base_uri": "https://localhost:8080/"
        },
        "outputId": "0d1c87e4-eae6-4bd1-ac5a-cd6a88a7e2fc"
      },
      "source": [
        "petal_length = 5.5\n",
        "petal_width = 2.3\n",
        "\n",
        "# 0: Iris-setosa | 1: Iris-versicolor\n",
        "print('Iris-versicolor' if clf.predict([petal_length, petal_width]) else 'Iris-setosa')"
      ],
      "execution_count": null,
      "outputs": [
        {
          "output_type": "stream",
          "text": [
            "Iris-versicolor\n"
          ],
          "name": "stdout"
        }
      ]
    }
  ]
}